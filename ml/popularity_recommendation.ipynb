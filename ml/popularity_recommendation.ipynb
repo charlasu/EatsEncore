{
 "cells": [
  {
   "cell_type": "code",
   "execution_count": 1,
   "metadata": {},
   "outputs": [],
   "source": [
    "import pandas as pd\n",
    "import numpy as np\n",
    "from apyori import apriori  "
   ]
  },
  {
   "cell_type": "code",
   "execution_count": 2,
   "metadata": {},
   "outputs": [],
   "source": [
    "df = pd.read_csv(\"../data/location1_cleaned.csv\")\n",
    "df_prods = pd.read_csv(\"../data_engineering/product_image_mapping.csv\")"
   ]
  },
  {
   "cell_type": "code",
   "execution_count": 3,
   "metadata": {},
   "outputs": [],
   "source": [
    "del df['product_sku']\n",
    "del df['display_description']\n",
    "del df['location_name']"
   ]
  },
  {
   "cell_type": "code",
   "execution_count": 4,
   "metadata": {},
   "outputs": [
    {
     "data": {
      "text/html": [
       "<div>\n",
       "<style scoped>\n",
       "    .dataframe tbody tr th:only-of-type {\n",
       "        vertical-align: middle;\n",
       "    }\n",
       "\n",
       "    .dataframe tbody tr th {\n",
       "        vertical-align: top;\n",
       "    }\n",
       "\n",
       "    .dataframe thead th {\n",
       "        text-align: right;\n",
       "    }\n",
       "</style>\n",
       "<table border=\"1\" class=\"dataframe\">\n",
       "  <thead>\n",
       "    <tr style=\"text-align: right;\">\n",
       "      <th></th>\n",
       "      <th>order_id</th>\n",
       "      <th>order_time(UTC)</th>\n",
       "      <th>items_id</th>\n",
       "      <th>items_name</th>\n",
       "      <th>item_price</th>\n",
       "      <th>quantity</th>\n",
       "      <th>served_for</th>\n",
       "      <th>item_category_type</th>\n",
       "    </tr>\n",
       "  </thead>\n",
       "  <tbody>\n",
       "    <tr>\n",
       "      <th>0</th>\n",
       "      <td>841222</td>\n",
       "      <td>2018-07-31 19:02:57</td>\n",
       "      <td>2255</td>\n",
       "      <td>Bud Light</td>\n",
       "      <td>7.50</td>\n",
       "      <td>1</td>\n",
       "      <td>Lunch</td>\n",
       "      <td>Alcoholic Beverage</td>\n",
       "    </tr>\n",
       "    <tr>\n",
       "      <th>1</th>\n",
       "      <td>841222</td>\n",
       "      <td>2018-07-31 19:02:57</td>\n",
       "      <td>3038</td>\n",
       "      <td>Shrimp, Fish and Chicken Platter</td>\n",
       "      <td>15.99</td>\n",
       "      <td>1</td>\n",
       "      <td>Lunch</td>\n",
       "      <td>Entree</td>\n",
       "    </tr>\n",
       "    <tr>\n",
       "      <th>2</th>\n",
       "      <td>841222</td>\n",
       "      <td>2018-07-31 19:02:57</td>\n",
       "      <td>3038</td>\n",
       "      <td>Shrimp, Fish and Chicken Platter</td>\n",
       "      <td>15.99</td>\n",
       "      <td>1</td>\n",
       "      <td>Lunch</td>\n",
       "      <td>Entree</td>\n",
       "    </tr>\n",
       "    <tr>\n",
       "      <th>3</th>\n",
       "      <td>841222</td>\n",
       "      <td>2018-07-31 19:02:57</td>\n",
       "      <td>2252</td>\n",
       "      <td>Assorted Fountain Beverages - Regular</td>\n",
       "      <td>3.29</td>\n",
       "      <td>1</td>\n",
       "      <td>Lunch</td>\n",
       "      <td>Beverage</td>\n",
       "    </tr>\n",
       "    <tr>\n",
       "      <th>4</th>\n",
       "      <td>841222</td>\n",
       "      <td>2018-07-31 19:02:57</td>\n",
       "      <td>3036</td>\n",
       "      <td>Shrimp Platter</td>\n",
       "      <td>12.49</td>\n",
       "      <td>1</td>\n",
       "      <td>Lunch</td>\n",
       "      <td>Entree</td>\n",
       "    </tr>\n",
       "    <tr>\n",
       "      <th>5</th>\n",
       "      <td>841222</td>\n",
       "      <td>2018-07-31 19:02:57</td>\n",
       "      <td>3036</td>\n",
       "      <td>Shrimp Platter</td>\n",
       "      <td>12.49</td>\n",
       "      <td>1</td>\n",
       "      <td>Lunch</td>\n",
       "      <td>Entree</td>\n",
       "    </tr>\n",
       "    <tr>\n",
       "      <th>6</th>\n",
       "      <td>841231</td>\n",
       "      <td>2018-07-31 19:05:20</td>\n",
       "      <td>3236</td>\n",
       "      <td>Toy Story Land Cupcake</td>\n",
       "      <td>4.99</td>\n",
       "      <td>1</td>\n",
       "      <td>Lunch</td>\n",
       "      <td>Dessert</td>\n",
       "    </tr>\n",
       "    <tr>\n",
       "      <th>7</th>\n",
       "      <td>841231</td>\n",
       "      <td>2018-07-31 19:05:20</td>\n",
       "      <td>3236</td>\n",
       "      <td>Toy Story Land Cupcake</td>\n",
       "      <td>4.99</td>\n",
       "      <td>1</td>\n",
       "      <td>Lunch</td>\n",
       "      <td>Dessert</td>\n",
       "    </tr>\n",
       "    <tr>\n",
       "      <th>8</th>\n",
       "      <td>841237</td>\n",
       "      <td>2018-07-31 19:08:43</td>\n",
       "      <td>2716</td>\n",
       "      <td>Chicken Breast Strips</td>\n",
       "      <td>9.49</td>\n",
       "      <td>1</td>\n",
       "      <td>Lunch</td>\n",
       "      <td>Entree</td>\n",
       "    </tr>\n",
       "    <tr>\n",
       "      <th>9</th>\n",
       "      <td>841237</td>\n",
       "      <td>2018-07-31 19:08:43</td>\n",
       "      <td>2253</td>\n",
       "      <td>Assorted Fountain Beverages - Large</td>\n",
       "      <td>3.69</td>\n",
       "      <td>1</td>\n",
       "      <td>Lunch</td>\n",
       "      <td>Beverage</td>\n",
       "    </tr>\n",
       "  </tbody>\n",
       "</table>\n",
       "</div>"
      ],
      "text/plain": [
       "   order_id      order_time(UTC)  items_id  \\\n",
       "0    841222  2018-07-31 19:02:57      2255   \n",
       "1    841222  2018-07-31 19:02:57      3038   \n",
       "2    841222  2018-07-31 19:02:57      3038   \n",
       "3    841222  2018-07-31 19:02:57      2252   \n",
       "4    841222  2018-07-31 19:02:57      3036   \n",
       "5    841222  2018-07-31 19:02:57      3036   \n",
       "6    841231  2018-07-31 19:05:20      3236   \n",
       "7    841231  2018-07-31 19:05:20      3236   \n",
       "8    841237  2018-07-31 19:08:43      2716   \n",
       "9    841237  2018-07-31 19:08:43      2253   \n",
       "\n",
       "                              items_name  item_price  quantity served_for  \\\n",
       "0                              Bud Light        7.50         1      Lunch   \n",
       "1       Shrimp, Fish and Chicken Platter       15.99         1      Lunch   \n",
       "2       Shrimp, Fish and Chicken Platter       15.99         1      Lunch   \n",
       "3  Assorted Fountain Beverages - Regular        3.29         1      Lunch   \n",
       "4                         Shrimp Platter       12.49         1      Lunch   \n",
       "5                         Shrimp Platter       12.49         1      Lunch   \n",
       "6                 Toy Story Land Cupcake        4.99         1      Lunch   \n",
       "7                 Toy Story Land Cupcake        4.99         1      Lunch   \n",
       "8                  Chicken Breast Strips        9.49         1      Lunch   \n",
       "9    Assorted Fountain Beverages - Large        3.69         1      Lunch   \n",
       "\n",
       "   item_category_type  \n",
       "0  Alcoholic Beverage  \n",
       "1              Entree  \n",
       "2              Entree  \n",
       "3            Beverage  \n",
       "4              Entree  \n",
       "5              Entree  \n",
       "6             Dessert  \n",
       "7             Dessert  \n",
       "8              Entree  \n",
       "9            Beverage  "
      ]
     },
     "execution_count": 4,
     "metadata": {},
     "output_type": "execute_result"
    }
   ],
   "source": [
    "df.head(10)"
   ]
  },
  {
   "cell_type": "code",
   "execution_count": 45,
   "metadata": {},
   "outputs": [],
   "source": [
    "# make large and small fountain drinks be the same thing\n",
    "df.loc[ df['items_id'] == 2253,'items_id' ] = 2252 \n",
    "# combine the same cupcake\n",
    "df.loc[ df['items_id'] == 3411] = 3236\n",
    "# combine the same Olaf cupcake\n",
    "df.loc[ df['items_id'] == 3410] = 2245\n",
    "# combine mac and chees\n",
    "df.loc[ df['items_id'] == 3274] = 3276"
   ]
  },
  {
   "cell_type": "code",
   "execution_count": 46,
   "metadata": {},
   "outputs": [
    {
     "data": {
      "text/plain": [
       "['Entree', 'Alcoholic Beverage', 'Dessert', 'Beverage', 'Kids', 'Side']"
      ]
     },
     "execution_count": 46,
     "metadata": {},
     "output_type": "execute_result"
    }
   ],
   "source": [
    "#Categories:\n",
    "cats = list(set(list(df_prods['category'])))\n",
    "cats\n"
   ]
  },
  {
   "cell_type": "code",
   "execution_count": 47,
   "metadata": {},
   "outputs": [
    {
     "data": {
      "text/html": [
       "<div>\n",
       "<style scoped>\n",
       "    .dataframe tbody tr th:only-of-type {\n",
       "        vertical-align: middle;\n",
       "    }\n",
       "\n",
       "    .dataframe tbody tr th {\n",
       "        vertical-align: top;\n",
       "    }\n",
       "\n",
       "    .dataframe thead th {\n",
       "        text-align: right;\n",
       "    }\n",
       "</style>\n",
       "<table border=\"1\" class=\"dataframe\">\n",
       "  <thead>\n",
       "    <tr style=\"text-align: right;\">\n",
       "      <th></th>\n",
       "      <th>items_id</th>\n",
       "      <th>count</th>\n",
       "      <th>name</th>\n",
       "      <th>display_desc</th>\n",
       "      <th>category</th>\n",
       "      <th>location</th>\n",
       "      <th>img</th>\n",
       "    </tr>\n",
       "  </thead>\n",
       "  <tbody>\n",
       "    <tr>\n",
       "      <th>19</th>\n",
       "      <td>2252</td>\n",
       "      <td>12597.0</td>\n",
       "      <td>Assorted Fountain Beverages - Regular</td>\n",
       "      <td>Assorted Coca-Cola® Offerings</td>\n",
       "      <td>Beverage</td>\n",
       "      <td>Columbia Harbor House</td>\n",
       "      <td>bev_fountain_beverages.jpeg</td>\n",
       "    </tr>\n",
       "    <tr>\n",
       "      <th>9</th>\n",
       "      <td>2237</td>\n",
       "      <td>4800.0</td>\n",
       "      <td>Mediterranean Salad with Chicken</td>\n",
       "      <td>tossed in a Mediterranean Vinaigrette and serv...</td>\n",
       "      <td>Entree</td>\n",
       "      <td>Columbia Harbor House</td>\n",
       "      <td>salad_mediterranean_salad_chicken.png</td>\n",
       "    </tr>\n",
       "    <tr>\n",
       "      <th>32</th>\n",
       "      <td>3038</td>\n",
       "      <td>4432.0</td>\n",
       "      <td>Shrimp, Fish and Chicken Platter</td>\n",
       "      <td>served with Steak Fries and Coleslaw</td>\n",
       "      <td>Entree</td>\n",
       "      <td>Columbia Harbor House</td>\n",
       "      <td>fried_shrimp_fish_chicken.png</td>\n",
       "    </tr>\n",
       "    <tr>\n",
       "      <th>28</th>\n",
       "      <td>2716</td>\n",
       "      <td>4382.0</td>\n",
       "      <td>Chicken Breast Strips</td>\n",
       "      <td>served with your choice of fresh Green Beans, ...</td>\n",
       "      <td>Entree</td>\n",
       "      <td>Columbia Harbor House</td>\n",
       "      <td>fried_chicken-strips.png</td>\n",
       "    </tr>\n",
       "    <tr>\n",
       "      <th>3</th>\n",
       "      <td>2210</td>\n",
       "      <td>4067.0</td>\n",
       "      <td>1/3 lb Angus Bacon Cheeseburger</td>\n",
       "      <td>served with your choice of fresh Green Beans, ...</td>\n",
       "      <td>Entree</td>\n",
       "      <td>Columbia Harbor House</td>\n",
       "      <td>burger_angus_bacon_cheeseburger.jpeg</td>\n",
       "    </tr>\n",
       "  </tbody>\n",
       "</table>\n",
       "</div>"
      ],
      "text/plain": [
       "    items_id    count                                   name  \\\n",
       "19      2252  12597.0  Assorted Fountain Beverages - Regular   \n",
       "9       2237   4800.0       Mediterranean Salad with Chicken   \n",
       "32      3038   4432.0       Shrimp, Fish and Chicken Platter   \n",
       "28      2716   4382.0                  Chicken Breast Strips   \n",
       "3       2210   4067.0        1/3 lb Angus Bacon Cheeseburger   \n",
       "\n",
       "                                         display_desc  category  \\\n",
       "19                      Assorted Coca-Cola® Offerings  Beverage   \n",
       "9   tossed in a Mediterranean Vinaigrette and serv...    Entree   \n",
       "32               served with Steak Fries and Coleslaw    Entree   \n",
       "28  served with your choice of fresh Green Beans, ...    Entree   \n",
       "3   served with your choice of fresh Green Beans, ...    Entree   \n",
       "\n",
       "                 location                                    img  \n",
       "19  Columbia Harbor House            bev_fountain_beverages.jpeg  \n",
       "9   Columbia Harbor House  salad_mediterranean_salad_chicken.png  \n",
       "32  Columbia Harbor House          fried_shrimp_fish_chicken.png  \n",
       "28  Columbia Harbor House               fried_chicken-strips.png  \n",
       "3   Columbia Harbor House   burger_angus_bacon_cheeseburger.jpeg  "
      ]
     },
     "execution_count": 47,
     "metadata": {},
     "output_type": "execute_result"
    }
   ],
   "source": [
    "# most popular items\n",
    "ydf = (df.groupby('items_id').count()['order_id']).reset_index(drop=False)\n",
    "ydf.rename(columns={'order_id':'count'},inplace=True)\n",
    "df_prods.rename(columns={'id':'items_id'},inplace=True)\n",
    "zdf = pd.merge(ydf,df_prods,on='items_id',how='right')\n",
    "zdf = zdf[ zdf['location'] != \"ABC Commissary\"]\n",
    "zdf = zdf.sort_values(['count'],ascending=False)\n",
    "zdf.head(5)"
   ]
  },
  {
   "cell_type": "code",
   "execution_count": 55,
   "metadata": {},
   "outputs": [],
   "source": [
    "entrees = zdf[ zdf['category'] == \"Entree\" ]"
   ]
  },
  {
   "cell_type": "code",
   "execution_count": 49,
   "metadata": {},
   "outputs": [],
   "source": [
    "bev = zdf[ zdf['category'] == \"Beverage\" ]"
   ]
  },
  {
   "cell_type": "code",
   "execution_count": 50,
   "metadata": {},
   "outputs": [],
   "source": [
    "alc = zdf[ zdf['category'] == \"Alcoholic Beverage\" ]"
   ]
  },
  {
   "cell_type": "code",
   "execution_count": 51,
   "metadata": {},
   "outputs": [],
   "source": [
    "sides = zdf[ zdf['category'] == \"Side\" ]"
   ]
  },
  {
   "cell_type": "code",
   "execution_count": 52,
   "metadata": {},
   "outputs": [],
   "source": [
    "desserts = zdf[ zdf['category'] == \"Dessert\" ]"
   ]
  },
  {
   "cell_type": "code",
   "execution_count": 65,
   "metadata": {},
   "outputs": [],
   "source": [
    "kids = zdf[ zdf['category'] == \"Kids\" ]"
   ]
  },
  {
   "cell_type": "code",
   "execution_count": 66,
   "metadata": {},
   "outputs": [],
   "source": [
    "import collections\n",
    "most_popular = collections.OrderedDict()"
   ]
  },
  {
   "cell_type": "code",
   "execution_count": 67,
   "metadata": {},
   "outputs": [],
   "source": [
    "most_popular['entree'] = list(entrees.iloc[0:3][ 'items_id' ])\n",
    "most_popular['side'] = list(sides.iloc[0:3][ 'items_id' ])\n",
    "most_popular['dessert'] = list(desserts.iloc[0:3][ 'items_id' ])\n",
    "most_popular['beverage'] = list(bev.iloc[0:3][ 'items_id' ])\n",
    "most_popular['alcohol'] = list(alc.iloc[0:3]['items_id'])\n",
    "most_popular['kids'] = list(kids.iloc[0:3]['items_id'])"
   ]
  },
  {
   "cell_type": "code",
   "execution_count": 68,
   "metadata": {},
   "outputs": [],
   "source": [
    "import json\n",
    "with open(\"../data/most_popular.json\",\"w\") as outfile:\n",
    "    outfile.write(json.dumps(most_popular))"
   ]
  },
  {
   "cell_type": "code",
   "execution_count": null,
   "metadata": {},
   "outputs": [],
   "source": []
  }
 ],
 "metadata": {
  "kernelspec": {
   "display_name": "Python 3",
   "language": "python",
   "name": "python3"
  },
  "language_info": {
   "codemirror_mode": {
    "name": "ipython",
    "version": 3
   },
   "file_extension": ".py",
   "mimetype": "text/x-python",
   "name": "python",
   "nbconvert_exporter": "python",
   "pygments_lexer": "ipython3",
   "version": "3.6.5"
  }
 },
 "nbformat": 4,
 "nbformat_minor": 2
}
