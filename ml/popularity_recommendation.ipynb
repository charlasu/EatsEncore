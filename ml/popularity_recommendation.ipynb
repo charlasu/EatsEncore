{
 "cells": [
  {
   "cell_type": "code",
   "execution_count": 16,
   "metadata": {},
   "outputs": [],
   "source": [
    "import pandas as pd\n",
    "import numpy as np\n",
    "from apyori import apriori  "
   ]
  },
  {
   "cell_type": "code",
   "execution_count": 17,
   "metadata": {},
   "outputs": [],
   "source": [
    "df = pd.read_csv(\"../data/location1_cleaned.csv\")\n",
    "df_prods = pd.read_csv(\"../data_engineering/products_charla20181127.csv\")"
   ]
  },
  {
   "cell_type": "code",
   "execution_count": 18,
   "metadata": {},
   "outputs": [],
   "source": [
    "del df['product_sku']\n",
    "del df['display_description']\n",
    "del df['location_name']\n",
    "del df_prods['location']"
   ]
  },
  {
   "cell_type": "code",
   "execution_count": 19,
   "metadata": {},
   "outputs": [
    {
     "data": {
      "text/html": [
       "<div>\n",
       "<style scoped>\n",
       "    .dataframe tbody tr th:only-of-type {\n",
       "        vertical-align: middle;\n",
       "    }\n",
       "\n",
       "    .dataframe tbody tr th {\n",
       "        vertical-align: top;\n",
       "    }\n",
       "\n",
       "    .dataframe thead th {\n",
       "        text-align: right;\n",
       "    }\n",
       "</style>\n",
       "<table border=\"1\" class=\"dataframe\">\n",
       "  <thead>\n",
       "    <tr style=\"text-align: right;\">\n",
       "      <th></th>\n",
       "      <th>order_id</th>\n",
       "      <th>order_time(UTC)</th>\n",
       "      <th>items_id</th>\n",
       "      <th>items_name</th>\n",
       "      <th>item_price</th>\n",
       "      <th>quantity</th>\n",
       "      <th>served_for</th>\n",
       "      <th>item_category_type</th>\n",
       "    </tr>\n",
       "  </thead>\n",
       "  <tbody>\n",
       "    <tr>\n",
       "      <th>0</th>\n",
       "      <td>841222</td>\n",
       "      <td>7/31/18 19:02</td>\n",
       "      <td>2255</td>\n",
       "      <td>Bud Light</td>\n",
       "      <td>7.50</td>\n",
       "      <td>1</td>\n",
       "      <td>Lunch</td>\n",
       "      <td>Alcoholic Beverage</td>\n",
       "    </tr>\n",
       "    <tr>\n",
       "      <th>1</th>\n",
       "      <td>841222</td>\n",
       "      <td>7/31/18 19:02</td>\n",
       "      <td>3036</td>\n",
       "      <td>Shrimp Platter</td>\n",
       "      <td>12.49</td>\n",
       "      <td>1</td>\n",
       "      <td>Lunch</td>\n",
       "      <td>Entree</td>\n",
       "    </tr>\n",
       "    <tr>\n",
       "      <th>2</th>\n",
       "      <td>841222</td>\n",
       "      <td>7/31/18 19:02</td>\n",
       "      <td>3038</td>\n",
       "      <td>Shrimp, Fish, &amp; Chicken Platter</td>\n",
       "      <td>15.99</td>\n",
       "      <td>1</td>\n",
       "      <td>Lunch</td>\n",
       "      <td>Entree</td>\n",
       "    </tr>\n",
       "    <tr>\n",
       "      <th>3</th>\n",
       "      <td>841222</td>\n",
       "      <td>7/31/18 19:02</td>\n",
       "      <td>3038</td>\n",
       "      <td>Shrimp, Fish, &amp; Chicken Platter</td>\n",
       "      <td>15.99</td>\n",
       "      <td>1</td>\n",
       "      <td>Lunch</td>\n",
       "      <td>Entree</td>\n",
       "    </tr>\n",
       "    <tr>\n",
       "      <th>4</th>\n",
       "      <td>841222</td>\n",
       "      <td>7/31/18 19:02</td>\n",
       "      <td>3036</td>\n",
       "      <td>Shrimp Platter</td>\n",
       "      <td>12.49</td>\n",
       "      <td>1</td>\n",
       "      <td>Lunch</td>\n",
       "      <td>Entree</td>\n",
       "    </tr>\n",
       "    <tr>\n",
       "      <th>5</th>\n",
       "      <td>841222</td>\n",
       "      <td>7/31/18 19:02</td>\n",
       "      <td>1858</td>\n",
       "      <td>Fountain Beverage</td>\n",
       "      <td>3.29</td>\n",
       "      <td>1</td>\n",
       "      <td>Lunch</td>\n",
       "      <td>Beverage</td>\n",
       "    </tr>\n",
       "    <tr>\n",
       "      <th>6</th>\n",
       "      <td>841231</td>\n",
       "      <td>7/31/18 19:05</td>\n",
       "      <td>3236</td>\n",
       "      <td></td>\n",
       "      <td>4.99</td>\n",
       "      <td>1</td>\n",
       "      <td>Lunch</td>\n",
       "      <td>Dessert</td>\n",
       "    </tr>\n",
       "    <tr>\n",
       "      <th>7</th>\n",
       "      <td>841231</td>\n",
       "      <td>7/31/18 19:05</td>\n",
       "      <td>3236</td>\n",
       "      <td></td>\n",
       "      <td>4.99</td>\n",
       "      <td>1</td>\n",
       "      <td>Lunch</td>\n",
       "      <td>Dessert</td>\n",
       "    </tr>\n",
       "    <tr>\n",
       "      <th>8</th>\n",
       "      <td>841237</td>\n",
       "      <td>7/31/18 19:08</td>\n",
       "      <td>2716</td>\n",
       "      <td>Chicken Strips</td>\n",
       "      <td>9.49</td>\n",
       "      <td>1</td>\n",
       "      <td>Lunch</td>\n",
       "      <td>Entree</td>\n",
       "    </tr>\n",
       "    <tr>\n",
       "      <th>9</th>\n",
       "      <td>841237</td>\n",
       "      <td>7/31/18 19:08</td>\n",
       "      <td>1858</td>\n",
       "      <td>Fountain Beverage</td>\n",
       "      <td>3.69</td>\n",
       "      <td>1</td>\n",
       "      <td>Lunch</td>\n",
       "      <td>Beverage</td>\n",
       "    </tr>\n",
       "  </tbody>\n",
       "</table>\n",
       "</div>"
      ],
      "text/plain": [
       "   order_id order_time(UTC)  items_id                       items_name  \\\n",
       "0    841222   7/31/18 19:02      2255                        Bud Light   \n",
       "1    841222   7/31/18 19:02      3036                   Shrimp Platter   \n",
       "2    841222   7/31/18 19:02      3038  Shrimp, Fish, & Chicken Platter   \n",
       "3    841222   7/31/18 19:02      3038  Shrimp, Fish, & Chicken Platter   \n",
       "4    841222   7/31/18 19:02      3036                   Shrimp Platter   \n",
       "5    841222   7/31/18 19:02      1858                Fountain Beverage   \n",
       "6    841231   7/31/18 19:05      3236                                    \n",
       "7    841231   7/31/18 19:05      3236                                    \n",
       "8    841237   7/31/18 19:08      2716                   Chicken Strips   \n",
       "9    841237   7/31/18 19:08      1858                Fountain Beverage   \n",
       "\n",
       "   item_price  quantity served_for  item_category_type  \n",
       "0        7.50         1      Lunch  Alcoholic Beverage  \n",
       "1       12.49         1      Lunch              Entree  \n",
       "2       15.99         1      Lunch              Entree  \n",
       "3       15.99         1      Lunch              Entree  \n",
       "4       12.49         1      Lunch              Entree  \n",
       "5        3.29         1      Lunch            Beverage  \n",
       "6        4.99         1      Lunch             Dessert  \n",
       "7        4.99         1      Lunch             Dessert  \n",
       "8        9.49         1      Lunch              Entree  \n",
       "9        3.69         1      Lunch            Beverage  "
      ]
     },
     "execution_count": 19,
     "metadata": {},
     "output_type": "execute_result"
    }
   ],
   "source": [
    "df.head(10)"
   ]
  },
  {
   "cell_type": "code",
   "execution_count": 20,
   "metadata": {},
   "outputs": [],
   "source": [
    "# make large and small fountain drinks be the same thing\n",
    "#df.loc[ df['items_id'] == 2253,'items_id' ] = 2252 \n",
    "# combine the same cupcake\n",
    "#df.loc[ df['items_id'] == 3411] = 3236\n",
    "# combine the same Olaf cupcake\n",
    "#df.loc[ df['items_id'] == 3410] = 2245\n",
    "# combine mac and chees\n",
    "#df.loc[ df['items_id'] == 3274] = 3276"
   ]
  },
  {
   "cell_type": "code",
   "execution_count": 21,
   "metadata": {},
   "outputs": [
    {
     "data": {
      "text/plain": [
       "['Side', 'Dessert', 'Beverage', 'Entree', 'Kids', 'Alcoholic Beverage']"
      ]
     },
     "execution_count": 21,
     "metadata": {},
     "output_type": "execute_result"
    }
   ],
   "source": [
    "#Categories:\n",
    "cats = list(set(list(df_prods['category'])))\n",
    "cats\n"
   ]
  },
  {
   "cell_type": "code",
   "execution_count": 23,
   "metadata": {},
   "outputs": [
    {
     "data": {
      "text/html": [
       "<div>\n",
       "<style scoped>\n",
       "    .dataframe tbody tr th:only-of-type {\n",
       "        vertical-align: middle;\n",
       "    }\n",
       "\n",
       "    .dataframe tbody tr th {\n",
       "        vertical-align: top;\n",
       "    }\n",
       "\n",
       "    .dataframe thead th {\n",
       "        text-align: right;\n",
       "    }\n",
       "</style>\n",
       "<table border=\"1\" class=\"dataframe\">\n",
       "  <thead>\n",
       "    <tr style=\"text-align: right;\">\n",
       "      <th></th>\n",
       "      <th>items_id</th>\n",
       "      <th>count</th>\n",
       "      <th>name</th>\n",
       "      <th>display_desc</th>\n",
       "      <th>category</th>\n",
       "      <th>img</th>\n",
       "      <th>name_short</th>\n",
       "      <th>category_corrected</th>\n",
       "    </tr>\n",
       "  </thead>\n",
       "  <tbody>\n",
       "    <tr>\n",
       "      <th>8</th>\n",
       "      <td>1858</td>\n",
       "      <td>13730.0</td>\n",
       "      <td>Assorted Fountain Beverages - Regular</td>\n",
       "      <td>Assorted Coca-Cola® Offerings</td>\n",
       "      <td>Beverage</td>\n",
       "      <td>bev_fountain_beverages.jpeg</td>\n",
       "      <td>Fountain Beverage</td>\n",
       "      <td>NaN</td>\n",
       "    </tr>\n",
       "    <tr>\n",
       "      <th>17</th>\n",
       "      <td>2237</td>\n",
       "      <td>5542.0</td>\n",
       "      <td>Mediterranean Salad with Chicken</td>\n",
       "      <td>tossed in a Mediterranean Vinaigrette and serv...</td>\n",
       "      <td>Entree</td>\n",
       "      <td>salad_mediterranean_salad_chicken.png</td>\n",
       "      <td>Chicken Mediterranean Salad</td>\n",
       "      <td>NaN</td>\n",
       "    </tr>\n",
       "    <tr>\n",
       "      <th>29</th>\n",
       "      <td>2716</td>\n",
       "      <td>4894.0</td>\n",
       "      <td>Chicken Breast Strips</td>\n",
       "      <td>served with your choice of fresh Green Beans, ...</td>\n",
       "      <td>Entree</td>\n",
       "      <td>fried_chicken-strips.png</td>\n",
       "      <td>Chicken Strips</td>\n",
       "      <td>NaN</td>\n",
       "    </tr>\n",
       "    <tr>\n",
       "      <th>33</th>\n",
       "      <td>3038</td>\n",
       "      <td>4764.0</td>\n",
       "      <td>Shrimp, Fish and Chicken Platter</td>\n",
       "      <td>served with Steak Fries and Coleslaw</td>\n",
       "      <td>Entree</td>\n",
       "      <td>fried_shrimp_fish_chicken.png</td>\n",
       "      <td>Shrimp, Fish, &amp; Chicken Platter</td>\n",
       "      <td>NaN</td>\n",
       "    </tr>\n",
       "    <tr>\n",
       "      <th>11</th>\n",
       "      <td>2210</td>\n",
       "      <td>4548.0</td>\n",
       "      <td>1/3 lb Angus Bacon Cheeseburger</td>\n",
       "      <td>served with your choice of fresh Green Beans, ...</td>\n",
       "      <td>Entree</td>\n",
       "      <td>burger_angus_bacon_cheeseburger.jpeg</td>\n",
       "      <td>NaN</td>\n",
       "      <td>NaN</td>\n",
       "    </tr>\n",
       "  </tbody>\n",
       "</table>\n",
       "</div>"
      ],
      "text/plain": [
       "    items_id    count                                   name  \\\n",
       "8       1858  13730.0  Assorted Fountain Beverages - Regular   \n",
       "17      2237   5542.0       Mediterranean Salad with Chicken   \n",
       "29      2716   4894.0                  Chicken Breast Strips   \n",
       "33      3038   4764.0       Shrimp, Fish and Chicken Platter   \n",
       "11      2210   4548.0        1/3 lb Angus Bacon Cheeseburger   \n",
       "\n",
       "                                         display_desc  category  \\\n",
       "8                       Assorted Coca-Cola® Offerings  Beverage   \n",
       "17  tossed in a Mediterranean Vinaigrette and serv...    Entree   \n",
       "29  served with your choice of fresh Green Beans, ...    Entree   \n",
       "33               served with Steak Fries and Coleslaw    Entree   \n",
       "11  served with your choice of fresh Green Beans, ...    Entree   \n",
       "\n",
       "                                      img                       name_short  \\\n",
       "8             bev_fountain_beverages.jpeg                Fountain Beverage   \n",
       "17  salad_mediterranean_salad_chicken.png      Chicken Mediterranean Salad   \n",
       "29               fried_chicken-strips.png                   Chicken Strips   \n",
       "33          fried_shrimp_fish_chicken.png  Shrimp, Fish, & Chicken Platter   \n",
       "11   burger_angus_bacon_cheeseburger.jpeg                              NaN   \n",
       "\n",
       "   category_corrected  \n",
       "8                 NaN  \n",
       "17                NaN  \n",
       "29                NaN  \n",
       "33                NaN  \n",
       "11                NaN  "
      ]
     },
     "execution_count": 23,
     "metadata": {},
     "output_type": "execute_result"
    }
   ],
   "source": [
    "# most popular items\n",
    "ydf = (df.groupby('items_id').count()['order_id']).reset_index(drop=False)\n",
    "ydf.rename(columns={'order_id':'count'},inplace=True)\n",
    "df_prods.rename(columns={'id':'items_id'},inplace=True)\n",
    "zdf = pd.merge(ydf,df_prods,on='items_id',how='right')\n",
    "zdf = zdf.sort_values(['count'],ascending=False)\n",
    "zdf.head(5)"
   ]
  },
  {
   "cell_type": "code",
   "execution_count": 24,
   "metadata": {},
   "outputs": [],
   "source": [
    "entrees = zdf[ zdf['category'] == \"Entree\" ]"
   ]
  },
  {
   "cell_type": "code",
   "execution_count": 25,
   "metadata": {},
   "outputs": [],
   "source": [
    "bev = zdf[ zdf['category'] == \"Beverage\" ]"
   ]
  },
  {
   "cell_type": "code",
   "execution_count": 26,
   "metadata": {},
   "outputs": [],
   "source": [
    "alc = zdf[ zdf['category'] == \"Alcoholic Beverage\" ]"
   ]
  },
  {
   "cell_type": "code",
   "execution_count": 27,
   "metadata": {},
   "outputs": [],
   "source": [
    "sides = zdf[ zdf['category'] == \"Side\" ]"
   ]
  },
  {
   "cell_type": "code",
   "execution_count": 28,
   "metadata": {},
   "outputs": [],
   "source": [
    "desserts = zdf[ zdf['category'] == \"Dessert\" ]"
   ]
  },
  {
   "cell_type": "code",
   "execution_count": 29,
   "metadata": {},
   "outputs": [],
   "source": [
    "kids = zdf[ zdf['category'] == \"Kids\" ]"
   ]
  },
  {
   "cell_type": "code",
   "execution_count": 30,
   "metadata": {},
   "outputs": [],
   "source": [
    "import collections\n",
    "most_popular = collections.OrderedDict()"
   ]
  },
  {
   "cell_type": "code",
   "execution_count": 31,
   "metadata": {},
   "outputs": [],
   "source": [
    "most_popular['entree'] = list(entrees.iloc[0:3][ 'items_id' ])\n",
    "most_popular['side'] = list(sides.iloc[0:3][ 'items_id' ])\n",
    "most_popular['dessert'] = list(desserts.iloc[0:3][ 'items_id' ])\n",
    "most_popular['beverage'] = list(bev.iloc[0:3][ 'items_id' ])\n",
    "most_popular['alcohol'] = list(alc.iloc[0:3]['items_id'])\n",
    "most_popular['kids'] = list(kids.iloc[0:3]['items_id'])"
   ]
  },
  {
   "cell_type": "code",
   "execution_count": 32,
   "metadata": {},
   "outputs": [],
   "source": [
    "import json\n",
    "with open(\"../data/most_popular.json\",\"w\") as outfile:\n",
    "    outfile.write(json.dumps(most_popular))"
   ]
  },
  {
   "cell_type": "code",
   "execution_count": null,
   "metadata": {},
   "outputs": [],
   "source": []
  },
  {
   "cell_type": "code",
   "execution_count": null,
   "metadata": {},
   "outputs": [],
   "source": []
  }
 ],
 "metadata": {
  "kernelspec": {
   "display_name": "Python 3",
   "language": "python",
   "name": "python3"
  },
  "language_info": {
   "codemirror_mode": {
    "name": "ipython",
    "version": 3
   },
   "file_extension": ".py",
   "mimetype": "text/x-python",
   "name": "python",
   "nbconvert_exporter": "python",
   "pygments_lexer": "ipython3",
   "version": "3.7.1"
  }
 },
 "nbformat": 4,
 "nbformat_minor": 2
}
